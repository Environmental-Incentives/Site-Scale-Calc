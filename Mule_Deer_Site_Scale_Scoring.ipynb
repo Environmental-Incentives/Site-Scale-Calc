{
 "cells": [
  {
   "cell_type": "markdown",
   "metadata": {},
   "source": [
    "# Mule Deer Site-Scale Scoring Calculator "
   ]
  },
  {
   "cell_type": "markdown",
   "metadata": {},
   "source": [
    "Steps for the site-scale scoring calculator in python\n",
    "1. Read in an Excel spreadsheet (or a csv)\n",
    "2. Convert measures to scores\n",
    "3. Aggregate scores by season functional class (e.g., forage)\n",
    "4. Aggregate scores by season\n",
    "5. Calculate functional acres per season\n",
    "6. Append to Excel spreadsheet and save"
   ]
  },
  {
   "cell_type": "markdown",
   "metadata": {},
   "source": [
    "## 1. Read in Excel Spreadsheet"
   ]
  },
  {
   "cell_type": "markdown",
   "metadata": {},
   "source": [
    "Use the Pandas library to read Excel files into a dataframe for editing. Pandas is imported as pd by convention. We will also import numpy as np to provide access to functions in numpy that will be useful later. We always import all libraries at the beginning of the script."
   ]
  },
  {
   "cell_type": "code",
   "execution_count": 1,
   "metadata": {},
   "outputs": [],
   "source": [
    "import pandas as pd\n",
    "import numpy as np"
   ]
  },
  {
   "cell_type": "markdown",
   "metadata": {},
   "source": [
    "To import a spreadsheet, use the read_excel function. To learn more about the function, including which parameters are required, use a question mark before the function to access the help documentation. Run the cell below (select the cell and press Shift+Enter)."
   ]
  },
  {
   "cell_type": "code",
   "execution_count": 2,
   "metadata": {},
   "outputs": [],
   "source": [
    "#?pd.read_excel"
   ]
  },
  {
   "cell_type": "markdown",
   "metadata": {},
   "source": [
    "Now use the function to read in the data. Specify the full path to the workbook with the workbook_path variable in the cell below. Then read in the data. (The r before the path name indicates to python to ignore the backslashes, which would otherwise be read as an escape character. This is referred to as a raw string. See more at https://docs.python.org/2.0/ref/strings.html)"
   ]
  },
  {
   "cell_type": "code",
   "execution_count": 3,
   "metadata": {},
   "outputs": [],
   "source": [
    "workbook_path = r'Book1.xlsx'\n",
    "data = pd.read_excel (workbook_path)"
   ]
  },
  {
   "cell_type": "markdown",
   "metadata": {},
   "source": [
    "To view the data, simply type the name of the variable and run the cell."
   ]
  },
  {
   "cell_type": "code",
   "execution_count": 4,
   "metadata": {},
   "outputs": [
    {
     "data": {
      "text/html": [
       "<div>\n",
       "<style>\n",
       "    .dataframe thead tr:only-child th {\n",
       "        text-align: right;\n",
       "    }\n",
       "\n",
       "    .dataframe thead th {\n",
       "        text-align: left;\n",
       "    }\n",
       "\n",
       "    .dataframe tbody tr th {\n",
       "        vertical-align: top;\n",
       "    }\n",
       "</style>\n",
       "<table border=\"1\" class=\"dataframe\">\n",
       "  <thead>\n",
       "    <tr style=\"text-align: right;\">\n",
       "      <th></th>\n",
       "      <th>Map_Unit_ID</th>\n",
       "      <th>Acres</th>\n",
       "      <th>Sage_CC</th>\n",
       "    </tr>\n",
       "  </thead>\n",
       "  <tbody>\n",
       "    <tr>\n",
       "      <th>0</th>\n",
       "      <td>1</td>\n",
       "      <td>10</td>\n",
       "      <td>0.25</td>\n",
       "    </tr>\n",
       "    <tr>\n",
       "      <th>1</th>\n",
       "      <td>2</td>\n",
       "      <td>100</td>\n",
       "      <td>0.05</td>\n",
       "    </tr>\n",
       "    <tr>\n",
       "      <th>2</th>\n",
       "      <td>3</td>\n",
       "      <td>1000</td>\n",
       "      <td>0.10</td>\n",
       "    </tr>\n",
       "  </tbody>\n",
       "</table>\n",
       "</div>"
      ],
      "text/plain": [
       "   Map_Unit_ID  Acres  Sage_CC\n",
       "0            1     10     0.25\n",
       "1            2    100     0.05\n",
       "2            3   1000     0.10"
      ]
     },
     "execution_count": 4,
     "metadata": {},
     "output_type": "execute_result"
    }
   ],
   "source": [
    "data"
   ]
  },
  {
   "cell_type": "markdown",
   "metadata": {},
   "source": [
    "To access a column, use bracket notation, as below."
   ]
  },
  {
   "cell_type": "code",
   "execution_count": 5,
   "metadata": {},
   "outputs": [
    {
     "data": {
      "text/plain": [
       "0    0.25\n",
       "1    0.05\n",
       "2    0.10\n",
       "Name: Sage_CC, dtype: float64"
      ]
     },
     "execution_count": 5,
     "metadata": {},
     "output_type": "execute_result"
    }
   ],
   "source": [
    "sage_pct = data['Sage_CC']\n",
    "sage_pct"
   ]
  },
  {
   "cell_type": "markdown",
   "metadata": {},
   "source": [
    "The data is returned as a pandas series. Use the built-in type function to check the type of any variable."
   ]
  },
  {
   "cell_type": "code",
   "execution_count": 6,
   "metadata": {},
   "outputs": [
    {
     "data": {
      "text/plain": [
       "pandas.core.series.Series"
      ]
     },
     "execution_count": 6,
     "metadata": {},
     "output_type": "execute_result"
    }
   ],
   "source": [
    "type(sage_pct)"
   ]
  },
  {
   "cell_type": "markdown",
   "metadata": {},
   "source": [
    "You can run calculations on each row and save the results in a new column very simply. Specify the new column to the left of the equal sign, and perform the calculation to the right of the equal sign.\n",
    "For example, we might convert the percentages to whole values by multiplying each by 100, saving the results in a new column named 'Sage_Pct'. Don't forget the parentheses around column names."
   ]
  },
  {
   "cell_type": "code",
   "execution_count": 7,
   "metadata": {},
   "outputs": [
    {
     "data": {
      "text/html": [
       "<div>\n",
       "<style>\n",
       "    .dataframe thead tr:only-child th {\n",
       "        text-align: right;\n",
       "    }\n",
       "\n",
       "    .dataframe thead th {\n",
       "        text-align: left;\n",
       "    }\n",
       "\n",
       "    .dataframe tbody tr th {\n",
       "        vertical-align: top;\n",
       "    }\n",
       "</style>\n",
       "<table border=\"1\" class=\"dataframe\">\n",
       "  <thead>\n",
       "    <tr style=\"text-align: right;\">\n",
       "      <th></th>\n",
       "      <th>Map_Unit_ID</th>\n",
       "      <th>Acres</th>\n",
       "      <th>Sage_CC</th>\n",
       "      <th>Sage_Pct</th>\n",
       "    </tr>\n",
       "  </thead>\n",
       "  <tbody>\n",
       "    <tr>\n",
       "      <th>0</th>\n",
       "      <td>1</td>\n",
       "      <td>10</td>\n",
       "      <td>0.25</td>\n",
       "      <td>25.0</td>\n",
       "    </tr>\n",
       "    <tr>\n",
       "      <th>1</th>\n",
       "      <td>2</td>\n",
       "      <td>100</td>\n",
       "      <td>0.05</td>\n",
       "      <td>5.0</td>\n",
       "    </tr>\n",
       "    <tr>\n",
       "      <th>2</th>\n",
       "      <td>3</td>\n",
       "      <td>1000</td>\n",
       "      <td>0.10</td>\n",
       "      <td>10.0</td>\n",
       "    </tr>\n",
       "  </tbody>\n",
       "</table>\n",
       "</div>"
      ],
      "text/plain": [
       "   Map_Unit_ID  Acres  Sage_CC  Sage_Pct\n",
       "0            1     10     0.25      25.0\n",
       "1            2    100     0.05       5.0\n",
       "2            3   1000     0.10      10.0"
      ]
     },
     "execution_count": 7,
     "metadata": {},
     "output_type": "execute_result"
    }
   ],
   "source": [
    "data['Sage_Pct'] = data['Sage_CC'] * 100\n",
    "data"
   ]
  },
  {
   "cell_type": "markdown",
   "metadata": {},
   "source": [
    "Suppose instead we wanted to apply our own function to the dataframe. We first must write our function."
   ]
  },
  {
   "cell_type": "code",
   "execution_count": 8,
   "metadata": {
    "collapsed": true
   },
   "outputs": [],
   "source": [
    "def percent_converter(x):\n",
    "    \"\"\"Converts x from a percent to a whole number\"\"\"\n",
    "    y = x * 100\n",
    "    return y"
   ]
  },
  {
   "cell_type": "markdown",
   "metadata": {},
   "source": [
    "Let's try out our function"
   ]
  },
  {
   "cell_type": "code",
   "execution_count": 9,
   "metadata": {},
   "outputs": [
    {
     "data": {
      "text/plain": [
       "25.0"
      ]
     },
     "execution_count": 9,
     "metadata": {},
     "output_type": "execute_result"
    }
   ],
   "source": [
    "percent_converter(.25)"
   ]
  },
  {
   "cell_type": "markdown",
   "metadata": {},
   "source": [
    "Now, let's apply it to the Sage_CC column of the dataframe and store the results in a new column named 'Sage_Pct_Fun'. We'll need to use pandas map function to do this."
   ]
  },
  {
   "cell_type": "code",
   "execution_count": 10,
   "metadata": {},
   "outputs": [
    {
     "data": {
      "text/html": [
       "<div>\n",
       "<style>\n",
       "    .dataframe thead tr:only-child th {\n",
       "        text-align: right;\n",
       "    }\n",
       "\n",
       "    .dataframe thead th {\n",
       "        text-align: left;\n",
       "    }\n",
       "\n",
       "    .dataframe tbody tr th {\n",
       "        vertical-align: top;\n",
       "    }\n",
       "</style>\n",
       "<table border=\"1\" class=\"dataframe\">\n",
       "  <thead>\n",
       "    <tr style=\"text-align: right;\">\n",
       "      <th></th>\n",
       "      <th>Map_Unit_ID</th>\n",
       "      <th>Acres</th>\n",
       "      <th>Sage_CC</th>\n",
       "      <th>Sage_Pct</th>\n",
       "      <th>Sage_Pct_Fun</th>\n",
       "    </tr>\n",
       "  </thead>\n",
       "  <tbody>\n",
       "    <tr>\n",
       "      <th>0</th>\n",
       "      <td>1</td>\n",
       "      <td>10</td>\n",
       "      <td>0.25</td>\n",
       "      <td>25.0</td>\n",
       "      <td>25.0</td>\n",
       "    </tr>\n",
       "    <tr>\n",
       "      <th>1</th>\n",
       "      <td>2</td>\n",
       "      <td>100</td>\n",
       "      <td>0.05</td>\n",
       "      <td>5.0</td>\n",
       "      <td>5.0</td>\n",
       "    </tr>\n",
       "    <tr>\n",
       "      <th>2</th>\n",
       "      <td>3</td>\n",
       "      <td>1000</td>\n",
       "      <td>0.10</td>\n",
       "      <td>10.0</td>\n",
       "      <td>10.0</td>\n",
       "    </tr>\n",
       "  </tbody>\n",
       "</table>\n",
       "</div>"
      ],
      "text/plain": [
       "   Map_Unit_ID  Acres  Sage_CC  Sage_Pct  Sage_Pct_Fun\n",
       "0            1     10     0.25      25.0          25.0\n",
       "1            2    100     0.05       5.0           5.0\n",
       "2            3   1000     0.10      10.0          10.0"
      ]
     },
     "execution_count": 10,
     "metadata": {},
     "output_type": "execute_result"
    }
   ],
   "source": [
    "data['Sage_Pct_Fun'] = data['Sage_CC'].map(percent_converter)\n",
    "data"
   ]
  },
  {
   "cell_type": "markdown",
   "metadata": {},
   "source": [
    "We might also want to average all of the values in the dataframe and return a series with those values. To do this, we'll use the apply function. Specify axis = 0 to perform the operation on each column, as opposed to each row (axis=1)."
   ]
  },
  {
   "cell_type": "code",
   "execution_count": 11,
   "metadata": {},
   "outputs": [
    {
     "data": {
      "text/plain": [
       "Map_Unit_ID       2.000000\n",
       "Acres           370.000000\n",
       "Sage_CC           0.133333\n",
       "Sage_Pct         13.333333\n",
       "Sage_Pct_Fun     13.333333\n",
       "dtype: float64"
      ]
     },
     "execution_count": 11,
     "metadata": {},
     "output_type": "execute_result"
    }
   ],
   "source": [
    "averages = data.apply(np.mean, axis=0)\n",
    "averages"
   ]
  },
  {
   "cell_type": "markdown",
   "metadata": {},
   "source": [
    "To access a single row, we can use the notation below to specify which row based on the value for a specific column. In this case, we'll get the row for which Map_Unit_ID is equal to 2. "
   ]
  },
  {
   "cell_type": "code",
   "execution_count": 12,
   "metadata": {},
   "outputs": [
    {
     "data": {
      "text/html": [
       "<div>\n",
       "<style>\n",
       "    .dataframe thead tr:only-child th {\n",
       "        text-align: right;\n",
       "    }\n",
       "\n",
       "    .dataframe thead th {\n",
       "        text-align: left;\n",
       "    }\n",
       "\n",
       "    .dataframe tbody tr th {\n",
       "        vertical-align: top;\n",
       "    }\n",
       "</style>\n",
       "<table border=\"1\" class=\"dataframe\">\n",
       "  <thead>\n",
       "    <tr style=\"text-align: right;\">\n",
       "      <th></th>\n",
       "      <th>Map_Unit_ID</th>\n",
       "      <th>Acres</th>\n",
       "      <th>Sage_CC</th>\n",
       "      <th>Sage_Pct</th>\n",
       "      <th>Sage_Pct_Fun</th>\n",
       "    </tr>\n",
       "  </thead>\n",
       "  <tbody>\n",
       "    <tr>\n",
       "      <th>1</th>\n",
       "      <td>2</td>\n",
       "      <td>100</td>\n",
       "      <td>0.05</td>\n",
       "      <td>5.0</td>\n",
       "      <td>5.0</td>\n",
       "    </tr>\n",
       "  </tbody>\n",
       "</table>\n",
       "</div>"
      ],
      "text/plain": [
       "   Map_Unit_ID  Acres  Sage_CC  Sage_Pct  Sage_Pct_Fun\n",
       "1            2    100     0.05       5.0           5.0"
      ]
     },
     "execution_count": 12,
     "metadata": {},
     "output_type": "execute_result"
    }
   ],
   "source": [
    "data[data['Map_Unit_ID']==2]"
   ]
  },
  {
   "cell_type": "markdown",
   "metadata": {},
   "source": [
    "Alternatively, we can use the .loc and .iloc methods of a dataframe to select single records and get a pandas series in return. .loc provides access based on the index and .iloc provides access based on the position of the index. To make this easier, we might want to change the index of our data to the Map_Unit_ID column. Hint: Use Shift+Enter after typing a method to access help documentation for the paramaters to use, here we use the inplace parameter to avoid creating a new copy of the data)."
   ]
  },
  {
   "cell_type": "code",
   "execution_count": 13,
   "metadata": {},
   "outputs": [
    {
     "data": {
      "text/html": [
       "<div>\n",
       "<style>\n",
       "    .dataframe thead tr:only-child th {\n",
       "        text-align: right;\n",
       "    }\n",
       "\n",
       "    .dataframe thead th {\n",
       "        text-align: left;\n",
       "    }\n",
       "\n",
       "    .dataframe tbody tr th {\n",
       "        vertical-align: top;\n",
       "    }\n",
       "</style>\n",
       "<table border=\"1\" class=\"dataframe\">\n",
       "  <thead>\n",
       "    <tr style=\"text-align: right;\">\n",
       "      <th></th>\n",
       "      <th>Acres</th>\n",
       "      <th>Sage_CC</th>\n",
       "      <th>Sage_Pct</th>\n",
       "      <th>Sage_Pct_Fun</th>\n",
       "    </tr>\n",
       "    <tr>\n",
       "      <th>Map_Unit_ID</th>\n",
       "      <th></th>\n",
       "      <th></th>\n",
       "      <th></th>\n",
       "      <th></th>\n",
       "    </tr>\n",
       "  </thead>\n",
       "  <tbody>\n",
       "    <tr>\n",
       "      <th>1</th>\n",
       "      <td>10</td>\n",
       "      <td>0.25</td>\n",
       "      <td>25.0</td>\n",
       "      <td>25.0</td>\n",
       "    </tr>\n",
       "    <tr>\n",
       "      <th>2</th>\n",
       "      <td>100</td>\n",
       "      <td>0.05</td>\n",
       "      <td>5.0</td>\n",
       "      <td>5.0</td>\n",
       "    </tr>\n",
       "    <tr>\n",
       "      <th>3</th>\n",
       "      <td>1000</td>\n",
       "      <td>0.10</td>\n",
       "      <td>10.0</td>\n",
       "      <td>10.0</td>\n",
       "    </tr>\n",
       "  </tbody>\n",
       "</table>\n",
       "</div>"
      ],
      "text/plain": [
       "             Acres  Sage_CC  Sage_Pct  Sage_Pct_Fun\n",
       "Map_Unit_ID                                        \n",
       "1               10     0.25      25.0          25.0\n",
       "2              100     0.05       5.0           5.0\n",
       "3             1000     0.10      10.0          10.0"
      ]
     },
     "execution_count": 13,
     "metadata": {},
     "output_type": "execute_result"
    }
   ],
   "source": [
    "data.set_index('Map_Unit_ID', inplace=True)\n",
    "data"
   ]
  },
  {
   "cell_type": "code",
   "execution_count": 14,
   "metadata": {},
   "outputs": [
    {
     "data": {
      "text/plain": [
       "Acres           100.00\n",
       "Sage_CC           0.05\n",
       "Sage_Pct          5.00\n",
       "Sage_Pct_Fun      5.00\n",
       "Name: 2, dtype: float64"
      ]
     },
     "execution_count": 14,
     "metadata": {},
     "output_type": "execute_result"
    }
   ],
   "source": [
    "data.loc[2]"
   ]
  },
  {
   "cell_type": "markdown",
   "metadata": {
    "collapsed": true
   },
   "source": [
    "To delete a column, use the .drop() method."
   ]
  },
  {
   "cell_type": "code",
   "execution_count": 15,
   "metadata": {},
   "outputs": [
    {
     "data": {
      "text/html": [
       "<div>\n",
       "<style>\n",
       "    .dataframe thead tr:only-child th {\n",
       "        text-align: right;\n",
       "    }\n",
       "\n",
       "    .dataframe thead th {\n",
       "        text-align: left;\n",
       "    }\n",
       "\n",
       "    .dataframe tbody tr th {\n",
       "        vertical-align: top;\n",
       "    }\n",
       "</style>\n",
       "<table border=\"1\" class=\"dataframe\">\n",
       "  <thead>\n",
       "    <tr style=\"text-align: right;\">\n",
       "      <th></th>\n",
       "      <th>Acres</th>\n",
       "      <th>Sage_CC</th>\n",
       "      <th>Sage_Pct</th>\n",
       "    </tr>\n",
       "    <tr>\n",
       "      <th>Map_Unit_ID</th>\n",
       "      <th></th>\n",
       "      <th></th>\n",
       "      <th></th>\n",
       "    </tr>\n",
       "  </thead>\n",
       "  <tbody>\n",
       "    <tr>\n",
       "      <th>1</th>\n",
       "      <td>10</td>\n",
       "      <td>0.25</td>\n",
       "      <td>25.0</td>\n",
       "    </tr>\n",
       "    <tr>\n",
       "      <th>2</th>\n",
       "      <td>100</td>\n",
       "      <td>0.05</td>\n",
       "      <td>5.0</td>\n",
       "    </tr>\n",
       "    <tr>\n",
       "      <th>3</th>\n",
       "      <td>1000</td>\n",
       "      <td>0.10</td>\n",
       "      <td>10.0</td>\n",
       "    </tr>\n",
       "  </tbody>\n",
       "</table>\n",
       "</div>"
      ],
      "text/plain": [
       "             Acres  Sage_CC  Sage_Pct\n",
       "Map_Unit_ID                          \n",
       "1               10     0.25      25.0\n",
       "2              100     0.05       5.0\n",
       "3             1000     0.10      10.0"
      ]
     },
     "execution_count": 15,
     "metadata": {},
     "output_type": "execute_result"
    }
   ],
   "source": [
    "data.drop('Sage_Pct_Fun', axis=1, inplace=True)\n",
    "data"
   ]
  },
  {
   "cell_type": "markdown",
   "metadata": {},
   "source": [
    "This should be enough to get you going on the site-scale scoring calculator. Let me know if you get stuck, but I know you can do it!"
   ]
  },
  {
   "cell_type": "markdown",
   "metadata": {},
   "source": [
    "# 2. Convert Measures to Scores"
   ]
  },
  {
   "cell_type": "code",
   "execution_count": 16,
   "metadata": {
    "collapsed": true
   },
   "outputs": [],
   "source": [
    "##to create site scale veg score, need to include forb cover and desirable forb cover! \n",
    "data['Forb_Pct'] = [10,5,20] #forb cover\n",
    "#desirable forb cover. we might need to create a function that subtracts invasives from forb cover  \n",
    "data['D_Forb_Pct'] = [8,5,15] \n",
    "#desirable shrub cover (for winter scores)\n",
    "data ['d_shrub_PCT'] = [20, 5, 5]"
   ]
  },
  {
   "cell_type": "code",
   "execution_count": 17,
   "metadata": {
    "collapsed": true
   },
   "outputs": [],
   "source": [
    "def summershrub(perc): ##from mule deer methods doc- score of summer shrub cover\n",
    "    if perc <= 15:\n",
    "        score = 0.2\n",
    "    elif perc <= 30: \n",
    "        score = 0.5\n",
    "    elif perc <= 50: \n",
    "        score = 0.8\n",
    "    elif perc <= 60:\n",
    "        score = 1.0\n",
    "    else: \n",
    "        score = 0.5\n",
    "    return score\n"
   ]
  },
  {
   "cell_type": "code",
   "execution_count": 18,
   "metadata": {},
   "outputs": [
    {
     "data": {
      "text/plain": [
       "0.5"
      ]
     },
     "execution_count": 18,
     "metadata": {},
     "output_type": "execute_result"
    }
   ],
   "source": [
    "#test \n",
    "summershrub(80)"
   ]
  },
  {
   "cell_type": "code",
   "execution_count": 19,
   "metadata": {
    "collapsed": true
   },
   "outputs": [],
   "source": [
    "##define function to convert forb cover to score\n",
    "def summerforb(forb_CC): \n",
    "    if forb_CC <= 30: \n",
    "        score = 0.05\n",
    "    elif forb_CC <= 60: \n",
    "        score = 0.33\n",
    "    else: \n",
    "        score = 1\n",
    "    return score"
   ]
  },
  {
   "cell_type": "code",
   "execution_count": 20,
   "metadata": {},
   "outputs": [
    {
     "data": {
      "text/plain": [
       "0.33"
      ]
     },
     "execution_count": 20,
     "metadata": {},
     "output_type": "execute_result"
    }
   ],
   "source": [
    "#test\n",
    "summerforb(35)"
   ]
  },
  {
   "cell_type": "code",
   "execution_count": 21,
   "metadata": {
    "collapsed": true
   },
   "outputs": [],
   "source": [
    "##not incorporating 'desirable forbs' because the scoring curves are not decided yet"
   ]
  },
  {
   "cell_type": "code",
   "execution_count": 22,
   "metadata": {
    "collapsed": true
   },
   "outputs": [],
   "source": [
    "#define fucntion to convert desirable shrub cover to score\n",
    "def desirable_shrub(dshrub):\n",
    "    if dshrub <= 25: \n",
    "        score = .25\n",
    "    elif dshrub <= 50: \n",
    "        score= .50\n",
    "    elif dshrub <= 75:\n",
    "        score = .75\n",
    "    else: \n",
    "        score = 1\n",
    "    return (score)\n"
   ]
  },
  {
   "cell_type": "code",
   "execution_count": 23,
   "metadata": {},
   "outputs": [
    {
     "data": {
      "text/html": [
       "<div>\n",
       "<style>\n",
       "    .dataframe thead tr:only-child th {\n",
       "        text-align: right;\n",
       "    }\n",
       "\n",
       "    .dataframe thead th {\n",
       "        text-align: left;\n",
       "    }\n",
       "\n",
       "    .dataframe tbody tr th {\n",
       "        vertical-align: top;\n",
       "    }\n",
       "</style>\n",
       "<table border=\"1\" class=\"dataframe\">\n",
       "  <thead>\n",
       "    <tr style=\"text-align: right;\">\n",
       "      <th></th>\n",
       "      <th>Acres</th>\n",
       "      <th>Sage_CC</th>\n",
       "      <th>Sage_Pct</th>\n",
       "      <th>Forb_Pct</th>\n",
       "      <th>D_Forb_Pct</th>\n",
       "      <th>d_shrub_PCT</th>\n",
       "    </tr>\n",
       "    <tr>\n",
       "      <th>Map_Unit_ID</th>\n",
       "      <th></th>\n",
       "      <th></th>\n",
       "      <th></th>\n",
       "      <th></th>\n",
       "      <th></th>\n",
       "      <th></th>\n",
       "    </tr>\n",
       "  </thead>\n",
       "  <tbody>\n",
       "    <tr>\n",
       "      <th>1</th>\n",
       "      <td>10</td>\n",
       "      <td>0.25</td>\n",
       "      <td>25.0</td>\n",
       "      <td>10</td>\n",
       "      <td>8</td>\n",
       "      <td>20</td>\n",
       "    </tr>\n",
       "    <tr>\n",
       "      <th>2</th>\n",
       "      <td>100</td>\n",
       "      <td>0.05</td>\n",
       "      <td>5.0</td>\n",
       "      <td>5</td>\n",
       "      <td>5</td>\n",
       "      <td>5</td>\n",
       "    </tr>\n",
       "    <tr>\n",
       "      <th>3</th>\n",
       "      <td>1000</td>\n",
       "      <td>0.10</td>\n",
       "      <td>10.0</td>\n",
       "      <td>20</td>\n",
       "      <td>15</td>\n",
       "      <td>5</td>\n",
       "    </tr>\n",
       "  </tbody>\n",
       "</table>\n",
       "</div>"
      ],
      "text/plain": [
       "             Acres  Sage_CC  Sage_Pct  Forb_Pct  D_Forb_Pct  d_shrub_PCT\n",
       "Map_Unit_ID                                                             \n",
       "1               10     0.25      25.0        10           8           20\n",
       "2              100     0.05       5.0         5           5            5\n",
       "3             1000     0.10      10.0        20          15            5"
      ]
     },
     "execution_count": 23,
     "metadata": {},
     "output_type": "execute_result"
    }
   ],
   "source": [
    "data"
   ]
  },
  {
   "cell_type": "code",
   "execution_count": 24,
   "metadata": {},
   "outputs": [
    {
     "data": {
      "text/html": [
       "<div>\n",
       "<style>\n",
       "    .dataframe thead tr:only-child th {\n",
       "        text-align: right;\n",
       "    }\n",
       "\n",
       "    .dataframe thead th {\n",
       "        text-align: left;\n",
       "    }\n",
       "\n",
       "    .dataframe tbody tr th {\n",
       "        vertical-align: top;\n",
       "    }\n",
       "</style>\n",
       "<table border=\"1\" class=\"dataframe\">\n",
       "  <thead>\n",
       "    <tr style=\"text-align: right;\">\n",
       "      <th></th>\n",
       "      <th>Acres</th>\n",
       "      <th>Sage_CC</th>\n",
       "      <th>Sage_Pct</th>\n",
       "      <th>Forb_Pct</th>\n",
       "      <th>D_Forb_Pct</th>\n",
       "      <th>d_shrub_PCT</th>\n",
       "      <th>Shrubcoverscore</th>\n",
       "      <th>forbcoverscore</th>\n",
       "      <th>dshrubscore</th>\n",
       "    </tr>\n",
       "    <tr>\n",
       "      <th>Map_Unit_ID</th>\n",
       "      <th></th>\n",
       "      <th></th>\n",
       "      <th></th>\n",
       "      <th></th>\n",
       "      <th></th>\n",
       "      <th></th>\n",
       "      <th></th>\n",
       "      <th></th>\n",
       "      <th></th>\n",
       "    </tr>\n",
       "  </thead>\n",
       "  <tbody>\n",
       "    <tr>\n",
       "      <th>1</th>\n",
       "      <td>10</td>\n",
       "      <td>0.25</td>\n",
       "      <td>25.0</td>\n",
       "      <td>10</td>\n",
       "      <td>8</td>\n",
       "      <td>20</td>\n",
       "      <td>0.5</td>\n",
       "      <td>0.05</td>\n",
       "      <td>0.25</td>\n",
       "    </tr>\n",
       "    <tr>\n",
       "      <th>2</th>\n",
       "      <td>100</td>\n",
       "      <td>0.05</td>\n",
       "      <td>5.0</td>\n",
       "      <td>5</td>\n",
       "      <td>5</td>\n",
       "      <td>5</td>\n",
       "      <td>0.2</td>\n",
       "      <td>0.05</td>\n",
       "      <td>0.25</td>\n",
       "    </tr>\n",
       "    <tr>\n",
       "      <th>3</th>\n",
       "      <td>1000</td>\n",
       "      <td>0.10</td>\n",
       "      <td>10.0</td>\n",
       "      <td>20</td>\n",
       "      <td>15</td>\n",
       "      <td>5</td>\n",
       "      <td>0.2</td>\n",
       "      <td>0.05</td>\n",
       "      <td>0.25</td>\n",
       "    </tr>\n",
       "  </tbody>\n",
       "</table>\n",
       "</div>"
      ],
      "text/plain": [
       "             Acres  Sage_CC  Sage_Pct  Forb_Pct  D_Forb_Pct  d_shrub_PCT  \\\n",
       "Map_Unit_ID                                                                \n",
       "1               10     0.25      25.0        10           8           20   \n",
       "2              100     0.05       5.0         5           5            5   \n",
       "3             1000     0.10      10.0        20          15            5   \n",
       "\n",
       "             Shrubcoverscore  forbcoverscore  dshrubscore  \n",
       "Map_Unit_ID                                                \n",
       "1                        0.5            0.05         0.25  \n",
       "2                        0.2            0.05         0.25  \n",
       "3                        0.2            0.05         0.25  "
      ]
     },
     "execution_count": 24,
     "metadata": {},
     "output_type": "execute_result"
    }
   ],
   "source": [
    "##add score to new column \n",
    "data['Shrubcoverscore'] = data['Sage_Pct'].map(summershrub)\n",
    "data['forbcoverscore'] = data['Forb_Pct'].map(summerforb)\n",
    "data['dshrubscore'] = data['d_shrub_PCT'].map(desirable_shrub)\n",
    "data"
   ]
  },
  {
   "cell_type": "markdown",
   "metadata": {},
   "source": [
    "# 3. Aggregated Based on Season"
   ]
  },
  {
   "cell_type": "code",
   "execution_count": 25,
   "metadata": {
    "collapsed": true
   },
   "outputs": [],
   "source": [
    "data['Sage_Pct'] = data['Sage_CC'] * 100\n",
    "\n",
    "data['s_vegscore']= data['Shrubcoverscore'] * 0.50 + data['forbcoverscore'] * 0.25 + data['forbcoverscore'] * 0.25\n",
    "#change the 2nd forb cover score to \"desirable forb score\" when we figure that out\n",
    "\n",
    "data['w_vegscore']= data['Shrubcoverscore'] * 0.50 + data['dshrubscore'] * .50"
   ]
  },
  {
   "cell_type": "markdown",
   "metadata": {},
   "source": [
    "# 4. Calculate functional acres per season"
   ]
  },
  {
   "cell_type": "code",
   "execution_count": 26,
   "metadata": {},
   "outputs": [
    {
     "data": {
      "text/html": [
       "<div>\n",
       "<style>\n",
       "    .dataframe thead tr:only-child th {\n",
       "        text-align: right;\n",
       "    }\n",
       "\n",
       "    .dataframe thead th {\n",
       "        text-align: left;\n",
       "    }\n",
       "\n",
       "    .dataframe tbody tr th {\n",
       "        vertical-align: top;\n",
       "    }\n",
       "</style>\n",
       "<table border=\"1\" class=\"dataframe\">\n",
       "  <thead>\n",
       "    <tr style=\"text-align: right;\">\n",
       "      <th></th>\n",
       "      <th>Acres</th>\n",
       "      <th>Sage_CC</th>\n",
       "      <th>Sage_Pct</th>\n",
       "      <th>Forb_Pct</th>\n",
       "      <th>D_Forb_Pct</th>\n",
       "      <th>d_shrub_PCT</th>\n",
       "      <th>Shrubcoverscore</th>\n",
       "      <th>forbcoverscore</th>\n",
       "      <th>dshrubscore</th>\n",
       "      <th>s_vegscore</th>\n",
       "      <th>w_vegscore</th>\n",
       "      <th>s_func_ac</th>\n",
       "      <th>w_func_ac</th>\n",
       "    </tr>\n",
       "    <tr>\n",
       "      <th>Map_Unit_ID</th>\n",
       "      <th></th>\n",
       "      <th></th>\n",
       "      <th></th>\n",
       "      <th></th>\n",
       "      <th></th>\n",
       "      <th></th>\n",
       "      <th></th>\n",
       "      <th></th>\n",
       "      <th></th>\n",
       "      <th></th>\n",
       "      <th></th>\n",
       "      <th></th>\n",
       "      <th></th>\n",
       "    </tr>\n",
       "  </thead>\n",
       "  <tbody>\n",
       "    <tr>\n",
       "      <th>1</th>\n",
       "      <td>10</td>\n",
       "      <td>0.25</td>\n",
       "      <td>25.0</td>\n",
       "      <td>10</td>\n",
       "      <td>8</td>\n",
       "      <td>20</td>\n",
       "      <td>0.5</td>\n",
       "      <td>0.05</td>\n",
       "      <td>0.25</td>\n",
       "      <td>0.275</td>\n",
       "      <td>0.375</td>\n",
       "      <td>2.75</td>\n",
       "      <td>3.75</td>\n",
       "    </tr>\n",
       "    <tr>\n",
       "      <th>2</th>\n",
       "      <td>100</td>\n",
       "      <td>0.05</td>\n",
       "      <td>5.0</td>\n",
       "      <td>5</td>\n",
       "      <td>5</td>\n",
       "      <td>5</td>\n",
       "      <td>0.2</td>\n",
       "      <td>0.05</td>\n",
       "      <td>0.25</td>\n",
       "      <td>0.125</td>\n",
       "      <td>0.225</td>\n",
       "      <td>12.50</td>\n",
       "      <td>22.50</td>\n",
       "    </tr>\n",
       "    <tr>\n",
       "      <th>3</th>\n",
       "      <td>1000</td>\n",
       "      <td>0.10</td>\n",
       "      <td>10.0</td>\n",
       "      <td>20</td>\n",
       "      <td>15</td>\n",
       "      <td>5</td>\n",
       "      <td>0.2</td>\n",
       "      <td>0.05</td>\n",
       "      <td>0.25</td>\n",
       "      <td>0.125</td>\n",
       "      <td>0.225</td>\n",
       "      <td>125.00</td>\n",
       "      <td>225.00</td>\n",
       "    </tr>\n",
       "  </tbody>\n",
       "</table>\n",
       "</div>"
      ],
      "text/plain": [
       "             Acres  Sage_CC  Sage_Pct  Forb_Pct  D_Forb_Pct  d_shrub_PCT  \\\n",
       "Map_Unit_ID                                                                \n",
       "1               10     0.25      25.0        10           8           20   \n",
       "2              100     0.05       5.0         5           5            5   \n",
       "3             1000     0.10      10.0        20          15            5   \n",
       "\n",
       "             Shrubcoverscore  forbcoverscore  dshrubscore  s_vegscore  \\\n",
       "Map_Unit_ID                                                             \n",
       "1                        0.5            0.05         0.25       0.275   \n",
       "2                        0.2            0.05         0.25       0.125   \n",
       "3                        0.2            0.05         0.25       0.125   \n",
       "\n",
       "             w_vegscore  s_func_ac  w_func_ac  \n",
       "Map_Unit_ID                                    \n",
       "1                 0.375       2.75       3.75  \n",
       "2                 0.225      12.50      22.50  \n",
       "3                 0.225     125.00     225.00  "
      ]
     },
     "execution_count": 26,
     "metadata": {},
     "output_type": "execute_result"
    }
   ],
   "source": [
    "data['s_func_ac'] = data['Acres'] * data['s_vegscore']\n",
    "data['w_func_ac'] = data['Acres'] * data['w_vegscore']\n",
    "\n",
    "data"
   ]
  },
  {
   "cell_type": "markdown",
   "metadata": {},
   "source": [
    "final output"
   ]
  },
  {
   "cell_type": "code",
   "execution_count": 27,
   "metadata": {},
   "outputs": [
    {
     "name": "stdout",
     "output_type": "stream",
     "text": [
      "             s_func_ac  w_func_ac\n",
      "Map_Unit_ID                      \n",
      "1                 2.75       3.75\n",
      "2                12.50      22.50\n",
      "3               125.00     225.00\n",
      "Total Summer Functional Acres\n",
      "140.25\n",
      "Total Winter Functional Acres\n",
      "251.25\n"
     ]
    }
   ],
   "source": [
    "print(data[['s_func_ac', 'w_func_ac']])\n",
    "\n",
    "print(\"Total Summer Functional Acres\")\n",
    "print(data['s_func_ac'].sum())\n",
    "print(\"Total Winter Functional Acres\")\n",
    "print(data['w_func_ac'].sum())"
   ]
  },
  {
   "cell_type": "markdown",
   "metadata": {},
   "source": [
    "# 5. Save"
   ]
  },
  {
   "cell_type": "code",
   "execution_count": 28,
   "metadata": {
    "collapsed": true
   },
   "outputs": [],
   "source": [
    "data.to_excel(\"func_acres_output.xlsx\")"
   ]
  },
  {
   "cell_type": "markdown",
   "metadata": {},
   "source": [
    "## other things/ drawing board"
   ]
  },
  {
   "cell_type": "code",
   "execution_count": 29,
   "metadata": {
    "collapsed": true
   },
   "outputs": [],
   "source": [
    "#summer/migration veg score\n",
    "#weights\n",
    "#desirable forbs .25\n",
    "#forbs cover  .25\n",
    "#shrub cover .5\n",
    "\n",
    "#def summerveg(shrubcoverscore, forbscoverscore, dshrubscore): \n",
    " #   summervegscore = shrubcoverscore * 0.50 + forbscoverscore * 0.25 + dshrubscore * 0.25\n",
    "  #  return (summervegscore)"
   ]
  },
  {
   "cell_type": "code",
   "execution_count": 30,
   "metadata": {
    "collapsed": true
   },
   "outputs": [],
   "source": [
    "#summerveg(1,2,3)"
   ]
  },
  {
   "cell_type": "code",
   "execution_count": 31,
   "metadata": {
    "collapsed": true
   },
   "outputs": [],
   "source": [
    "#data['summervegscore'] = data['shrubcoverscore, forbscoverscore, dshrubscore'].map(summerveg)\n",
    "#data"
   ]
  }
 ],
 "metadata": {
  "kernelspec": {
   "display_name": "Python 3",
   "language": "python",
   "name": "python3"
  },
  "language_info": {
   "codemirror_mode": {
    "name": "ipython",
    "version": 3
   },
   "file_extension": ".py",
   "mimetype": "text/x-python",
   "name": "python",
   "nbconvert_exporter": "python",
   "pygments_lexer": "ipython3",
   "version": "3.7.3"
  }
 },
 "nbformat": 4,
 "nbformat_minor": 2
}
